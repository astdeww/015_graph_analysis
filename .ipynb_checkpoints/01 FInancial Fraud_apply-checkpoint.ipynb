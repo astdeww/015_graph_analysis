{
 "cells": [
  {
   "cell_type": "code",
   "execution_count": null,
   "id": "e9362b83-0527-440c-b346-cee304e5513a",
   "metadata": {},
   "outputs": [],
   "source": [
    "from fraud_detection import analyze_graph, visualize_graph\n",
    "\n",
    "# New data\n",
    "new_transactions = [\n",
    "    # Add new transactions here\n",
    "]\n",
    "\n"
   ]
  },
  {
   "cell_type": "code",
   "execution_count": null,
   "id": "e43912d9-5af5-4093-86b9-43f8194e73d9",
   "metadata": {},
   "outputs": [],
   "source": [
    "# Analyze new data\n",
    "betweenness, anomalies, frauds = analyze_graph(new_transactions)\n",
    "\n",
    "# Print results\n",
    "print(\"Betweenness Centrality:\", betweenness)\n",
    "print(\"Anomalous Nodes:\", anomalies)\n",
    "print(\"Potential Frauds:\", frauds)\n",
    "\n"
   ]
  },
  {
   "cell_type": "code",
   "execution_count": null,
   "id": "85f02112-adae-4932-9991-a4448bf0d22a",
   "metadata": {},
   "outputs": [],
   "source": [
    "# Visualize new data\n",
    "import networkx as nx\n",
    "G = nx.DiGraph()\n",
    "for sender, receiver, amount in new_transactions:\n",
    "    G.add_edge(sender, receiver, weight=amount)\n",
    "visualize_graph(G, betweenness, anomalies)\n"
   ]
  }
 ],
 "metadata": {
  "kernelspec": {
   "display_name": "Graph Analysis",
   "language": "python",
   "name": "graph_analysis"
  },
  "language_info": {
   "codemirror_mode": {
    "name": "ipython",
    "version": 3
   },
   "file_extension": ".py",
   "mimetype": "text/x-python",
   "name": "python",
   "nbconvert_exporter": "python",
   "pygments_lexer": "ipython3",
   "version": "3.8.19"
  }
 },
 "nbformat": 4,
 "nbformat_minor": 5
}
